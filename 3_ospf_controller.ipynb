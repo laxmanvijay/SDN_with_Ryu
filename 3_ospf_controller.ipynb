{
 "cells": [
  {
   "cell_type": "markdown",
   "metadata": {},
   "source": [
    "# Example OSPF Implementation"
   ]
  },
  {
   "cell_type": "markdown",
   "metadata": {},
   "source": [
    "The following is a demonstration of a complex routing implementation using Dijkstra's algorithm in Ryu controller.\n",
    "* Read notebooks 1 and 2 before continuing this notebook"
   ]
  },
  {
   "cell_type": "markdown",
   "metadata": {},
   "source": [
    "#### As usual, we define the initial boilerplate code"
   ]
  },
  {
   "cell_type": "code",
   "execution_count": null,
   "metadata": {},
   "outputs": [],
   "source": [
    "from multiprocessing.connection import Client\n",
    "from ryu.base import app_manager\n",
    "from ryu.controller import ofp_event\n",
    "from ryu.controller.handler import CONFIG_DISPATCHER, MAIN_DISPATCHER, set_ev_cls\n",
    "from ryu.ofproto import ofproto_v1_3\n",
    "from ryu.lib.packet import packet, ethernet, arp, ether_types\n",
    "from ryu.topology import event\n",
    "from utils import dpid_to_name, ip_to_mac\n",
    "from topo_info import GlobalTopoSharableConstants\n",
    "\n",
    "class DijkstraRyuController(app_manager.RyuApp):\n",
    "    OFP_VERSIONS = [ofproto_v1_3.OFP_VERSION]\n",
    "\n",
    "    def __init__(self, *args, **kwargs):\n",
    "        super(DijkstraRyuController, self).__init__(*args, **kwargs)\n",
    "\n",
    "        address = ('localhost', 6000)\n",
    "\n",
    "        conn = Client(address)\n",
    "        conn.send([GlobalTopoSharableConstants.TOPO_REQUEST])\n",
    "        self.topo_info = conn.recv()\n",
    "        conn.close()\n",
    "\n",
    "        self.routing_table = {}\n",
    "\n",
    "    @set_ev_cls(ofp_event.EventOFPSwitchFeatures, CONFIG_DISPATCHER)\n",
    "    def switch_features_handler(self, ev):\n",
    "        \n",
    "        datapath = ev.msg.datapath\n",
    "        ofproto = datapath.ofproto\n",
    "        parser = datapath.ofproto_parser\n",
    "\n",
    "        # Initial flow entry for matching misses\n",
    "        match = parser.OFPMatch()\n",
    "        actions = [parser.OFPActionOutput(ofproto.OFPP_CONTROLLER,\n",
    "                                          ofproto.OFPCML_NO_BUFFER)]\n",
    "        self.add_flow(datapath, 0, match, actions)\n",
    "\n",
    "    def add_flow(self, datapath, priority, match, actions):\n",
    "        ofproto = datapath.ofproto\n",
    "        parser = datapath.ofproto_parser\n",
    "\n",
    "        inst = [parser.OFPInstructionActions(ofproto.OFPIT_APPLY_ACTIONS, actions)]\n",
    "        mod = parser.OFPFlowMod(datapath=datapath, priority=priority,\n",
    "                                match=match, instructions=inst)\n",
    "                            \n",
    "        datapath.send_msg(mod)"
   ]
  },
  {
   "cell_type": "markdown",
   "metadata": {},
   "source": [
    "#### Key Points:\n",
    "* Everything is the same as previous implementation except now there is a connection to another tcp server.\n",
    "* This connection provides with the topology knowledge needed for implementing OSPF.\n",
    "* As I said before, there are several ways to obtain the topology knowledge and it depends on the developer.\n",
    "* The topology is assumed to provide us with dijkstra shortest paths as well."
   ]
  },
  {
   "cell_type": "markdown",
   "metadata": {},
   "source": [
    "#### ARP is handled in the same way"
   ]
  },
  {
   "cell_type": "code",
   "execution_count": null,
   "metadata": {},
   "outputs": [],
   "source": [
    "@set_ev_cls(ofp_event.EventOFPPacketIn, MAIN_DISPATCHER)\n",
    "def _packet_in_handler(self, ev):\n",
    "    msg = ev.msg\n",
    "    datapath = msg.datapath # datapath is the switch which got the packet\n",
    "\n",
    "    in_port = msg.match['in_port']\n",
    "\n",
    "    pkt = packet.Packet(msg.data)\n",
    "\n",
    "    arp_pkt = pkt.get_protocol(arp.arp)\n",
    "\n",
    "    if arp_pkt:\n",
    "        print(\"arp packet received\", arp_pkt.src_mac, arp_pkt.dst_mac, arp_pkt.src_ip, arp_pkt.dst_ip)\n",
    "        if arp_pkt.opcode == arp.ARP_REQUEST: \n",
    "            self.send_arp_response(datapath, arp_pkt, in_port)\n",
    "\n",
    "def send_arp_response(self, datapath, arp_pkt, in_port):        \n",
    "        actions = [datapath.ofproto_parser.OFPActionOutput(in_port)]\n",
    "\n",
    "        src_mac = ip_to_mac(arp_pkt.dst_ip)\n",
    "\n",
    "        e = ethernet.ethernet(\n",
    "                dst = arp_pkt.src_mac, \n",
    "                src = src_mac, \n",
    "                ethertype = ether_types.ETH_TYPE_ARP\n",
    "            )\n",
    "        \n",
    "        a = arp.arp(\n",
    "                opcode = arp.ARP_REPLY,\n",
    "                dst_mac = arp_pkt.src_mac,\n",
    "                dst_ip = arp_pkt.src_ip,\n",
    "                src_mac = src_mac,\n",
    "                src_ip = arp_pkt.dst_ip\n",
    "            )\n",
    "\n",
    "        p = packet.Packet()\n",
    "        p.add_protocol(e)\n",
    "        p.add_protocol(a)\n",
    "        p.serialize()\n",
    "\n",
    "        out = datapath.ofproto_parser.OFPPacketOut(\n",
    "                datapath=datapath,\n",
    "                buffer_id=0xffffffff,\n",
    "                in_port=datapath.ofproto.OFPP_CONTROLLER,\n",
    "                actions=actions,\n",
    "                data=p.data\n",
    "            )\n",
    "        \n",
    "        self.logger.info(f\"Sending arp frame srcmac: {src_mac} dstmac: {arp_pkt.src_mac} srcip: {arp_pkt.src_ip} dstip: {arp_pkt.dst_ip}\")\n",
    "        \n",
    "        datapath.send_msg(out)"
   ]
  },
  {
   "cell_type": "markdown",
   "metadata": {},
   "source": [
    "#### OSPF implementation"
   ]
  },
  {
   "cell_type": "code",
   "execution_count": null,
   "metadata": {},
   "outputs": [],
   "source": [
    "@set_ev_cls(event.EventSwitchEnter)\n",
    "def get_topology_data(self, ev):\n",
    "    switch_name = dpid_to_name(ev.switch.dp.id)\n",
    "    print(\"Computing paths for: \" + switch_name)\n",
    "\n",
    "    datapath = ev.switch.dp\n",
    "    of_proto = datapath.ofproto\n",
    "    parser = datapath.ofproto_parser\n",
    "\n",
    "    # fill the routing table\n",
    "    self.routing_table[switch_name] = {}\n",
    "\n",
    "    for h_name, h_ip, h_mac in self.topo_info['hosts']:\n",
    "        for next_path in self.topo_info['dijkstra_paths'][switch_name]:\n",
    "            if next_path[0] == h_name:\n",
    "                ports = self.topo_info['ports'][switch_name]\n",
    "                for port_num, dst in ports.items():\n",
    "                    if dst[0] == next_path[1]:\n",
    "                        if self.routing_table[switch_name].get(h_ip) == None:\n",
    "                            self.routing_table[switch_name][h_ip] = {}\n",
    "                        \n",
    "                        self.routing_table[switch_name][h_ip]['name'] = h_name\n",
    "                        self.routing_table[switch_name][h_ip]['port'] = port_num\n",
    "\n",
    "        print(f\"adding to flow table: {h_ip}->{self.routing_table[switch_name][h_ip]['port']}\")\n",
    "\n",
    "        actions = [parser.OFPActionDecNwTtl(), parser.OFPActionOutput(self.routing_table[switch_name][h_ip]['port'])]\n",
    "        match = parser.OFPMatch(\n",
    "            eth_type = 0x0800, # eth type represents the type of ethernet frame (0x0800 represents ip frame)\n",
    "            ipv4_dst = h_ip)\n",
    "        self.add_flow(datapath, of_proto.OFP_DEFAULT_PRIORITY, match, actions)"
   ]
  },
  {
   "cell_type": "markdown",
   "metadata": {},
   "source": [
    "#### Key Points:\n",
    "* The above function inserts flow table entries for each of the hosts in every switch that connects to the controller.\n",
    "* This is handled by the `EventSwitchEnter` event."
   ]
  },
  {
   "cell_type": "markdown",
   "metadata": {},
   "source": []
  }
 ],
 "metadata": {
  "kernelspec": {
   "display_name": "base",
   "language": "python",
   "name": "python3"
  },
  "language_info": {
   "name": "python",
   "version": "3.11.7"
  }
 },
 "nbformat": 4,
 "nbformat_minor": 2
}
