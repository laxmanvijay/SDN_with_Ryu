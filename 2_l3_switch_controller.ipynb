{
 "cells": [
  {
   "cell_type": "markdown",
   "metadata": {},
   "source": [
    "# L3 Switch/Router Controller"
   ]
  },
  {
   "cell_type": "markdown",
   "metadata": {},
   "source": [
    "The following guides through the process of creating a L3 switch/router using Ryu and OpenFlow"
   ]
  },
  {
   "cell_type": "markdown",
   "metadata": {},
   "source": [
    "#### A few key points:\n",
    "* By default Ryu doesn't implement any mechanisms to handle IP packet handling. \n",
    "* Ryu also doesn't implement ARP handling. (Which is needed for IP packet forwarding)\n",
    "* Read l2_switch_controller notebook before continuing as I reuse code from there"
   ]
  },
  {
   "cell_type": "markdown",
   "metadata": {},
   "source": [
    "Before continuing with the implementation, here's a quick summary of IP routing:\n",
    "* Suppose you initiate a ping request in a host.\n",
    "* If the destination is in the same subnet, it directly sends it to the destination.\n",
    "* Otherwise, it sends it to the gateway router. \n",
    "* The IP address of the destination/gateway router is already known using protocols like DNS/DHCP.\n",
    "* The host then constructs the IP packet with the appropriate src and dst ip addresses.\n",
    "* Now it needs to construct the ethernet frame to send it over the wire.\n",
    "* In order to construct a ethernet frame, the host needs the destination mac address.\n",
    "* It checks its arp cache to see if it exists. If not, ARP broadcast request (destination mac is set to FF:FF:FF:FF:FF:FF and destination ip is set to the target ip) is sent to discover the mac address of the destination. The host also includes its own mac address in the request.\n",
    "* Once the gateway router/destination host receives an arp request with broadcast request, it checks the destination IP and if it matches its own IP, a unicast response with the actual mac address is sent back.\n",
    "* Now the host can construct an ethernet frame with proper mac.\n",
    "\n",
    "Here is a video explaining the same: https://www.youtube.com/watch?v=QPi5Nvxaosw"
   ]
  },
  {
   "cell_type": "markdown",
   "metadata": {},
   "source": [
    "We now define the same boilerplate code from the previous notebook:"
   ]
  },
  {
   "cell_type": "code",
   "execution_count": null,
   "metadata": {},
   "outputs": [],
   "source": [
    "from ryu.base import app_manager\n",
    "from ryu.controller import ofp_event\n",
    "from ryu.controller.handler import CONFIG_DISPATCHER, MAIN_DISPATCHER\n",
    "from ryu.controller.handler import set_ev_cls\n",
    "from ryu.ofproto import ofproto_v1_3\n",
    "from ryu.lib.packet import packet, ethernet, ether_types, ipv4, arp\n",
    "import ipaddress"
   ]
  },
  {
   "cell_type": "code",
   "execution_count": null,
   "metadata": {},
   "outputs": [],
   "source": [
    "class L3SwitchController(app_manager.RyuApp):\n",
    "    OFP_VERSIONS = [ofproto_v1_3.OFP_VERSION]\n",
    "\n",
    "    def __init__(self, *args, **kwargs):\n",
    "        super(LearningSwitch, self).__init__(*args, **kwargs)\n",
    "        self.switch_forwarding_table = {}\n",
    "\n",
    "    @set_ev_cls(ofp_event.EventOFPSwitchFeatures, CONFIG_DISPATCHER)\n",
    "    def switch_features_handler(self, ev):\n",
    "        \n",
    "        datapath = ev.msg.datapath\n",
    "        ofproto = datapath.ofproto\n",
    "        parser = datapath.ofproto_parser\n",
    "\n",
    "        # Initial flow entry for matching misses\n",
    "        match = parser.OFPMatch()\n",
    "        actions = [parser.OFPActionOutput(ofproto.OFPP_CONTROLLER,\n",
    "                                          ofproto.OFPCML_NO_BUFFER)]\n",
    "        self.add_flow(datapath, 0, match, actions)\n",
    "\n",
    "    def add_flow(self, datapath, priority, match, actions):\n",
    "        ofproto = datapath.ofproto\n",
    "        parser = datapath.ofproto_parser\n",
    "\n",
    "        inst = [parser.OFPInstructionActions(ofproto.OFPIT_APPLY_ACTIONS, actions)]\n",
    "        mod = parser.OFPFlowMod(datapath=datapath, priority=priority,\n",
    "                                match=match, instructions=inst)\n",
    "        datapath.send_msg(mod)"
   ]
  },
  {
   "cell_type": "markdown",
   "metadata": {},
   "source": [
    "Now, in the handler, we parse specifically the ARP packet and then process it."
   ]
  },
  {
   "cell_type": "code",
   "execution_count": null,
   "metadata": {},
   "outputs": [],
   "source": [
    "@set_ev_cls(ofp_event.EventOFPPacketIn, MAIN_DISPATCHER)\n",
    "def _packet_in_handler(self, ev):\n",
    "    msg = ev.msg\n",
    "    datapath = msg.datapath # datapath is the switch which got the packet\n",
    "\n",
    "    in_port = msg.match['in_port']\n",
    "\n",
    "    pkt = packet.Packet(msg.data)\n",
    "\n",
    "    arp_pkt = pkt.get_protocol(arp.arp)\n",
    "    ip_pkt = pkt.get_protocol(ipv4.ipv4)\n",
    "    \n",
    "    if arp_pkt:\n",
    "        if arp_pkt.opcode == arp.ARP_REQUEST: \n",
    "            self.send_arp_response(datapath, arp_pkt, in_port)\n",
    "\n",
    "    if ip_pkt:\n",
    "        self.route_ip_packet(datapath, msg, ip_pkt, in_port)"
   ]
  },
  {
   "cell_type": "code",
   "execution_count": 1,
   "metadata": {},
   "outputs": [],
   "source": [
    "def send_arp_response(self, datapath, arp_pkt, in_port):        \n",
    "    actions = [datapath.ofproto_parser.OFPActionOutput(in_port)]\n",
    "\n",
    "    src_mac = get_mac_for_switch(datapath.id) # could be random, doesn't matter (refer: https://github.com/mininet/mininet/wiki/FAQ#assign-macs)\n",
    "\n",
    "    e = ethernet.ethernet(\n",
    "            dst = arp_pkt.src_mac, # sending the response back to the source\n",
    "            src = src_mac, \n",
    "            ethertype = ether_types.ETH_TYPE_ARP\n",
    "        )\n",
    "    \n",
    "    a = arp.arp(\n",
    "            opcode = arp.ARP_REPLY,\n",
    "            dst_mac = arp_pkt.src_mac, # sending the response back to the source\n",
    "            dst_ip = arp_pkt.src_ip,\n",
    "            src_mac = src_mac,\n",
    "            src_ip = arp_pkt.dst_ip\n",
    "        )\n",
    "\n",
    "    p = packet.Packet()\n",
    "    p.add_protocol(e)\n",
    "    p.add_protocol(a)\n",
    "    p.serialize()\n",
    "\n",
    "    out = datapath.ofproto_parser.OFPPacketOut(\n",
    "            datapath=datapath,\n",
    "            buffer_id=0xffffffff, # ensures no buffer is set\n",
    "            in_port=datapath.ofproto.OFPP_CONTROLLER,\n",
    "            actions=actions,\n",
    "            data=p.data\n",
    "    )\n",
    "    \n",
    "    datapath.send_msg(out)"
   ]
  },
  {
   "cell_type": "markdown",
   "metadata": {},
   "source": [
    "The above function defines a simple ARP response handler. We obtain the request and construct an ARP response packet, serialize it along with an ethernet frame and send it back to the source"
   ]
  },
  {
   "cell_type": "markdown",
   "metadata": {},
   "source": [
    "Now that we have the ARP setup, all we need next is to simply forward the IP packet to the appropriate port. Here is the spec for IP forwarding: https://datatracker.ietf.org/doc/html/rfc1812#page-85\n",
    "\n",
    "* Basically, we send the packet to the appropriate port by looking at the routing table.\n",
    "* If there is no entry in the table, we drop it.\n",
    "* If there are multiple entries, we sort based on tos.\n",
    "* We also decrement the TTL."
   ]
  },
  {
   "cell_type": "code",
   "execution_count": null,
   "metadata": {},
   "outputs": [],
   "source": [
    "def route_ip_packet(self, datapath, msg, ip_pkt, in_port):\n",
    "    available_routes = self.routing_table.items()\n",
    "\n",
    "    # The following router implementation is based on RFC 1812 (https://datatracker.ietf.org/doc/html/rfc1812#page-85)\n",
    "\n",
    "    # The router located for matching routes in its routing table for the given ip address\n",
    "    try:\n",
    "        port_to_route  = self.routing_table[datapath.id][ip_pkt.dst]\n",
    "    except:\n",
    "        self.logger.info(\"route not found\")\n",
    "\n",
    "    if msg.buffer_id == datapath.of_proto.OFP_NO_BUFFER:\n",
    "        data = msg.data\n",
    "    \n",
    "    if data is None:\n",
    "        return\n",
    "\n",
    "    actions = [datapath.parser.OFPActionOutput(port_to_route)]\n",
    "    \n",
    "    out = datapath.parser.OFPPacketOut(\n",
    "        datapath=datapath, buffer_id=msg.buffer_id, in_port=in_port,\n",
    "        actions=actions, data=data)\n",
    "\n",
    "    datapath.send_msg(out)\n",
    "    "
   ]
  },
  {
   "cell_type": "markdown",
   "metadata": {},
   "source": [
    "#### And that's it! A few points:\n",
    "* For IP routing, we do not learn the routes while handling packets.\n",
    "* Routes are assigned statically in the routing table during the start or they are learned using dynamic routing protocols (DRP)\n",
    "* The most common DRP is OSPF (which we will use in the next notebook)\n",
    "* The python version is in controllers/l3_switch_controller.py\n",
    "* Continue reading the fat_tree_topology notebook to learn more about the next steps"
   ]
  },
  {
   "cell_type": "markdown",
   "metadata": {},
   "source": []
  }
 ],
 "metadata": {
  "kernelspec": {
   "display_name": "base",
   "language": "python",
   "name": "python3"
  },
  "language_info": {
   "codemirror_mode": {
    "name": "ipython",
    "version": 3
   },
   "file_extension": ".py",
   "mimetype": "text/x-python",
   "name": "python",
   "nbconvert_exporter": "python",
   "pygments_lexer": "ipython3",
   "version": "3.11.7"
  }
 },
 "nbformat": 4,
 "nbformat_minor": 2
}
