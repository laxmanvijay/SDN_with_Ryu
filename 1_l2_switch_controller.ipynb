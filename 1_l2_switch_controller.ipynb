{
 "cells": [
  {
   "cell_type": "markdown",
   "metadata": {},
   "source": [
    "# L2 Switch Controller"
   ]
  },
  {
   "cell_type": "markdown",
   "metadata": {},
   "source": [
    "The following defines a L2 Switch controller to enable forwarding of ethernet frames to appropriate ports. We use Ryu as our OpenFlow controller. More information and documentation about Ryu here: https://ryu.readthedocs.io/en/latest/developing.html"
   ]
  },
  {
   "cell_type": "markdown",
   "metadata": {},
   "source": [
    "#### A few key points:\n",
    "* Ryu does not natively know or care about what you do with a packet.\n",
    "* All it needs to know is the output port in which to send the packet.\n",
    "* Ryu does not know about internet protocols like ARP, IP, MAC forwarding etc. It does exactly what you ask it to.\n",
    "* Ryu is an OpenFlow controller which is designed to run on a seperate server and usually knows the entire topology. (Think of a cluster of network switches and Ryu as the orchestrator that knows everything)\n",
    "* Therefore, every variable you define in Ryu controller is common for every Switch. \n",
    "* But OpenFlow also provides a flow table that is unique to every switch which has to be populated for every switch with match-action pairs.\n",
    "* Everytime a switch receives a packet, it will first check its flow table for any matching entries. Otherwise, it simply sends the packet to the controller.\n",
    "* Ryu and Mininet work only on Linux."
   ]
  },
  {
   "cell_type": "markdown",
   "metadata": {},
   "source": [
    "#### We define the boilerplate template code for the Ryu Controller first:"
   ]
  },
  {
   "cell_type": "markdown",
   "metadata": {},
   "source": [
    "The following lines define the imports needed for Ryu:"
   ]
  },
  {
   "cell_type": "code",
   "execution_count": null,
   "metadata": {},
   "outputs": [],
   "source": [
    "from ryu.base import app_manager\n",
    "from ryu.controller import ofp_event\n",
    "from ryu.controller.handler import CONFIG_DISPATCHER, MAIN_DISPATCHER\n",
    "from ryu.controller.handler import set_ev_cls\n",
    "from ryu.lib.packet import packet, ethernet\n",
    "from ryu.ofproto import ofproto_v1_3"
   ]
  },
  {
   "cell_type": "markdown",
   "metadata": {},
   "source": [
    "Ryu implements the OpenFlow protocol and therefore the terminologies are greatly dependent on the OpenFlow protocol itself. "
   ]
  },
  {
   "cell_type": "code",
   "execution_count": null,
   "metadata": {},
   "outputs": [],
   "source": [
    "class L2SwitchController(app_manager.RyuApp):\n",
    "    OFP_VERSIONS = [ofproto_v1_3.OFP_VERSION]\n",
    "\n",
    "    def __init__(self, *args, **kwargs):\n",
    "        super(LearningSwitch, self).__init__(*args, **kwargs)\n",
    "        self.switch_forwarding_table = {}\n",
    "\n",
    "    @set_ev_cls(ofp_event.EventOFPSwitchFeatures, CONFIG_DISPATCHER)\n",
    "    def switch_features_handler(self, ev):\n",
    "        \n",
    "        datapath = ev.msg.datapath\n",
    "        ofproto = datapath.ofproto\n",
    "        parser = datapath.ofproto_parser\n",
    "\n",
    "        # Initial flow entry for matching misses\n",
    "        match = parser.OFPMatch()\n",
    "        actions = [parser.OFPActionOutput(ofproto.OFPP_CONTROLLER,\n",
    "                                          ofproto.OFPCML_NO_BUFFER)]\n",
    "        self.add_flow(datapath, 0, match, actions)\n",
    "\n",
    "    def add_flow(self, datapath, priority, match, actions):\n",
    "        ofproto = datapath.ofproto\n",
    "        parser = datapath.ofproto_parser\n",
    "\n",
    "        inst = [parser.OFPInstructionActions(ofproto.OFPIT_APPLY_ACTIONS, actions)]\n",
    "        mod = parser.OFPFlowMod(datapath=datapath, priority=priority,\n",
    "                                match=match, instructions=inst)\n",
    "        datapath.send_msg(mod)\n",
    "    \n",
    "\n"
   ]
  },
  {
   "cell_type": "markdown",
   "metadata": {},
   "source": [
    "The above defines a RyuApp class with some basic boilerplate for configuring the controller. This remains mostly the same and can be reused.\n",
    "\n",
    "The function `add_flow` adds the match-action to a flow table of a switch. Remember flow tables are unique to every switches.\n",
    "\n",
    "\n",
    "```python\n",
    "def add_flow(self, datapath, priority, match, actions):\n",
    "        ofproto = datapath.ofproto\n",
    "        parser = datapath.ofproto_parser\n",
    "\n",
    "        inst = [parser.OFPInstructionActions(ofproto.OFPIT_APPLY_ACTIONS, actions)]\n",
    "        mod = parser.OFPFlowMod(datapath=datapath, priority=priority,\n",
    "                                match=match, instructions=inst)\n",
    "        datapath.send_msg(mod)\n",
    "```\n"
   ]
  },
  {
   "cell_type": "markdown",
   "metadata": {},
   "source": [
    "Ryu works like a typical web server controller. It exposes certain events like EventSwitchEnter, EventSwitchLeave, EventOFPacketIn which can be handled by the user. A full list of events is provided here: https://github.com/faucetsdn/ryu/blob/master/ryu/topology/event.py and https://ryu.readthedocs.io/en/latest/ryu_app_api.html"
   ]
  },
  {
   "cell_type": "markdown",
   "metadata": {},
   "source": [
    "* In this example, let's use the EventOFPacketIn event and write a handler to handle packets when they arrive."
   ]
  },
  {
   "cell_type": "code",
   "execution_count": null,
   "metadata": {},
   "outputs": [],
   "source": [
    "@set_ev_cls(ofp_event.EventOFPPacketIn, MAIN_DISPATCHER)\n",
    "def _packet_in_handler(self, ev):\n",
    "    msg = ev.msg\n",
    "    datapath = msg.datapath\n",
    "\n",
    "    in_port = msg.match['in_port']\n",
    "\n",
    "    parser = datapath.ofproto_parser\n",
    "    actions = [parser.OFPActionOutput(in_port)]\n",
    "\n",
    "    out = parser.OFPPacketOut(\n",
    "            datapath=datapath, buffer_id=msg.buffer_id, in_port=in_port,\n",
    "            actions=actions, data=msg.data)\n",
    "    \n",
    "    datapath.send_msg(out)\n",
    "\n",
    "L2SwitchController._packet_in_handler = _packet_in_handler"
   ]
  },
  {
   "cell_type": "markdown",
   "metadata": {},
   "source": [
    "The above function is invoked everytime a packet is received by the controller. We then obtain details we need from the packet for further processing. In fact the most simplest handler you can write is the above:\n",
    "\n",
    "The above handler will reroute every packet back to its own source. Not very useful, eh?\n",
    "\n"
   ]
  },
  {
   "cell_type": "markdown",
   "metadata": {},
   "source": [
    "#### Key points:\n",
    "* datapath is the switch which sent the packet to the controller.\n",
    "* action is a list of actions that are executed in the order they are defined. There are several actions you can perform on a packet before sending it to a port. More details here: https://ryu.readthedocs.io/en/latest/ofproto_v1_3_ref.html#action-structures\n",
    "* Openflow defines several fields that can also be matched. A full list is here: https://ryu.readthedocs.io/en/latest/ofproto_v1_3_ref.html"
   ]
  },
  {
   "cell_type": "markdown",
   "metadata": {},
   "source": [
    "Although, the above definition works, its not so useful in its current state and we need to add more functionality to make it a L2 switch controller. Specifically, we need to do the following:\n",
    "\n",
    "* Learn the in_port and mac_address combination whenever a packet comes to the controller.\n",
    "* Add it to the flow table.\n",
    "* If there is no prior knowledge, we flood the packet to every port."
   ]
  },
  {
   "cell_type": "markdown",
   "metadata": {},
   "source": [
    "Adding to flow table is as simple as invoking the add_flow method with match and action:\n",
    "\n",
    "```python\n",
    "actions = [parser.OFPActionOutput(out_port)]\n",
    "match = parser.OFPMatch(eth_dst = eth.dst)\n",
    "self.add_flow(datapath, of_proto.OFP_DEFAULT_PRIORITY, match, actions)\n",
    "```\n",
    "\n",
    "### Key points:\n",
    "* Here we define a simple match-action pair where we say, if the packet matches the `eth.dst`, send it to the specific `out_port`.\n",
    "* Why only those 2 values? It's entirely upto the developer to define match-action pair to match on anything and act in any way the developer wishes\n"
   ]
  },
  {
   "cell_type": "markdown",
   "metadata": {},
   "source": [
    "### Here is a completed mac frame handler:"
   ]
  },
  {
   "cell_type": "code",
   "execution_count": null,
   "metadata": {},
   "outputs": [],
   "source": [
    "@set_ev_cls(ofp_event.EventOFPPacketIn, MAIN_DISPATCHER)\n",
    "def _packet_in_handler(self, ev):\n",
    "    msg = ev.msg\n",
    "    datapath = msg.datapath\n",
    "\n",
    "    in_port = msg.match['in_port']\n",
    "\n",
    "    parser = datapath.ofproto_parser\n",
    "    of_proto = datapath.ofproto\n",
    "\n",
    "    pkt = packet.Packet(msg.data)\n",
    "    eth_pkt = pkt.get_protocol(ethernet.ethernet)\n",
    "\n",
    "    if datapath.id not in self.switch_forwarding_table:\n",
    "        self.switch_forwarding_table[datapath.id] = {}\n",
    "    \n",
    "    self.switch_forwarding_table[datapath.id][eth_pkt.src] = in_port\n",
    "    actions = [parser.OFPActionOutput(of_proto.OFPP_FLOOD)]\n",
    "\n",
    "    if eth_pkt.dst in self.switch_forwarding_table[datapath.id]:\n",
    "        out_port = self.switch_forwarding_table[datapath.id][eth_pkt.dst]\n",
    "        actions = [parser.OFPActionOutput(out_port)]\n",
    "        match = parser.OFPMatch(eth_dst = eth_pkt.dst)\n",
    "\n",
    "        self.logger.info(\"Added mac to flow table\")\n",
    "        self.add_flow(datapath, of_proto.OFP_DEFAULT_PRIORITY, match, actions)\n",
    "\n",
    "    data = None\n",
    "\n",
    "    if msg.buffer_id == of_proto.OFP_NO_BUFFER:\n",
    "        data = msg.data\n",
    "    \n",
    "    if data is None:\n",
    "        return\n",
    "    \n",
    "    out = parser.OFPPacketOut(\n",
    "        datapath=datapath, buffer_id=msg.buffer_id, in_port=in_port,\n",
    "        actions=actions, data=data)\n",
    "\n",
    "    datapath.send_msg(out)\n"
   ]
  },
  {
   "cell_type": "markdown",
   "metadata": {},
   "source": [
    "* As you can see, the logic is same as explained above.\n",
    "* We check whether we know where to route eth.dst packet to. If not we flood the packet; otherwise we simply add a match-action entry to the flow table of that switch.\n",
    "* Then we process the data and create an output response back to the switch."
   ]
  },
  {
   "cell_type": "markdown",
   "metadata": {},
   "source": [
    "### Key points:\n",
    "* Why do we process the data this way?\n",
    "* The data is only present if there is no buffer_id. Otherwise, it is parked in the switch and only the header content is sent to the controller.\n",
    "* Here we process only packets if there is no buffer. (This is also upto the developer)\n",
    "* We also obtain the required packet (ethernet, ipv4, arp, etc) using the packet parsing utilities provided by Ryu. More information here: https://ryu.readthedocs.io/en/latest/library_packet_ref.html"
   ]
  },
  {
   "cell_type": "markdown",
   "metadata": {},
   "source": [
    "#### And that's it! This is the entire logic needed to implement a L2 networking switch in OpenFlow SDN using Ryu."
   ]
  },
  {
   "cell_type": "markdown",
   "metadata": {},
   "source": [
    "* The python version is in controllers/l2_switch_controller.py\n",
    "* Continue reading the l3_switch_controller notebook to learn more about the next steps"
   ]
  },
  {
   "cell_type": "markdown",
   "metadata": {},
   "source": []
  }
 ],
 "metadata": {
  "kernelspec": {
   "display_name": "base",
   "language": "python",
   "name": "python3"
  },
  "language_info": {
   "codemirror_mode": {
    "name": "ipython",
    "version": 3
   },
   "file_extension": ".py",
   "mimetype": "text/x-python",
   "name": "python",
   "nbconvert_exporter": "python",
   "pygments_lexer": "ipython3",
   "version": "3.11.7"
  }
 },
 "nbformat": 4,
 "nbformat_minor": 2
}
